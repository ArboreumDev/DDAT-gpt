{
 "cells": [
  {
   "cell_type": "code",
   "execution_count": 35,
   "metadata": {},
   "outputs": [],
   "source": [
    "from sklearn.metrics.pairwise import cosine_similarity\n",
    "from sentence_transformers import SentenceTransformer\n",
    "import numpy as np\n",
    "from sklearn.feature_extraction.text import TfidfVectorizer\n",
    "import re\n",
    "\n",
    "\n",
    "def create_ngrams(text, n=10):\n",
    "    #Split into running ngrams of words using spaces, commas or semicolons as separators\n",
    "    words = text.replace(';',' ').split()\n",
    "    ngrams = [' '.join(words[i:i+n]) for i in range(len(words) - n + 1)]\n",
    "    return ngrams\n",
    "\n",
    "# Function to find the most relevant snippet from the text\n",
    "def find_most_relevant_snippet(query, text, vectorizer):\n",
    "    sentences = create_ngrams(text)\n",
    "    \n",
    "    # Add the query to the list of sentences\n",
    "    sentences_with_query = [query] + sentences\n",
    "\n",
    "    # Calculate the TF-IDF vectors for the query and sentences\n",
    "    tfidf_matrix = vectorizer.fit_transform(sentences_with_query)\n",
    "\n",
    "    # Calculate cosine similarity between the query and sentences\n",
    "    cosine_similarities = cosine_similarity(tfidf_matrix[0:1], tfidf_matrix[1:])[0]\n",
    "\n",
    "    # Find the index of the sentence with the highest similarity\n",
    "    most_relevant_idx = np.argmax(cosine_similarities)\n",
    "\n",
    "    # Return the most relevant sentence and its similarity score\n",
    "    return sentences[most_relevant_idx], cosine_similarities[most_relevant_idx]\n",
    "\n",
    "\n",
    "model = SentenceTransformer('paraphrase-distilroberta-base-v1')\n",
    "documents = np.load(\"documents_with_embeddings.npy\", allow_pickle=True)\n",
    "\n",
    "# Function to find the most relevant documents\n",
    "def search_documents(query, documents, model, top_n=3):\n",
    "    #query = enrich_query(query)\n",
    "    query_embedding = model.encode(query)\n",
    "    \n",
    "    similarities = []\n",
    "    for doc in documents:\n",
    "        # Calculate the cosine similarity between each query sentence and the full text embedding\n",
    "        cosine_similarities = cosine_similarity([query_embedding], [doc[\"embeddings\"]])\n",
    "        \n",
    "        # Find the maximum similarity score for each query sentence\n",
    "        max_similarities = np.max(cosine_similarities, axis=1)\n",
    "        \n",
    "        # Calculate the average similarity score across all query sentences for this document\n",
    "        avg_similarity = np.mean(max_similarities)\n",
    "        similarities.append((doc, avg_similarity))\n",
    "    \n",
    "    # Sort the documents by similarity score\n",
    "    sorted_docs = sorted(similarities, key=lambda x: x[1], reverse=True)\n",
    "    \n",
    "    # Return the top_n relevant documents\n",
    "    return sorted_docs[:top_n]\n",
    "\n",
    "\n"
   ]
  },
  {
   "cell_type": "code",
   "execution_count": 36,
   "metadata": {},
   "outputs": [
    {
     "name": "stdout",
     "output_type": "stream",
     "text": [
      "huggingface/tokenizers: The current process just got forked, after parallelism has already been used. Disabling parallelism to avoid deadlocks...\n",
      "To disable this warning, you can either:\n",
      "\t- Avoid using `tokenizers` before the fork if possible\n",
      "\t- Explicitly set the environment variable TOKENIZERS_PARALLELISM=(true | false)\n",
      "[NbConvertApp] Converting notebook search.ipynb to script\n",
      "[NbConvertApp] Writing 3099 bytes to search.py\n"
     ]
    }
   ],
   "source": [
    "#convert this .ipynb file to .py file\n",
    "!jupyter nbconvert --to script search.ipynb"
   ]
  },
  {
   "cell_type": "code",
   "execution_count": 37,
   "metadata": {},
   "outputs": [
    {
     "name": "stdout",
     "output_type": "stream",
     "text": [
      "Query: Earth Observation for Kenya\n",
      "Document 1:\n",
      "PID: ['P154784']\n",
      "Title: Kenya - Climate Smart Agriculture Project : Environmental Assessment (Vol. 2) : Environmental and Social Impact Assessment Report for the Desilting and Expansion of Kabarbesi Water Pan Sub-Project Located in Emining Ward-Mogotio Sub-County, Baringo County\n",
      "Link: http://documents.worldbank.org/curated/en/841071615445783266/Environmental-and-Social-Impact-Assessment-Report-for-the-Desilting-and-Expansion-of-Kabarbesi-Water-Pan-Sub-project-Located-in-Emining-Ward-Mogotio-Sub-County-Baringo-County\n",
      "Relevant snippet: of the Climate Smart Agriculture Project for Kenya is to\n",
      "Abstract: The development objective of the Climate Smart Agriculture Project for Kenya is to increase agricultural productivity and build resilience to climate change risks in the targeted smallholder farming and pastoral communities in Kenya, and in the event of an eligible crisis or emergency, to provide immediate and effective response. Suggested measures included sensitization of the community on livestock disease control and prevention and provision of extension, intensify disease and pest surveillance; rehabilitate through reinstatement and tree planting all sites that are being used for construction activities such as camps, materials site (borrow pits and quarries) sites for storage materials and any paths, tracks that may be established during the construction phase and the water management committee should take charge of ensuring sustainability of this; dust from excavations and earth moving vehicles as well as materials delivery; emissions such as smoke, hydrocarbons and nitrogenous gases among others from machinery exhausts; the stockpiles of earth generated during construction works should be suppressed by spraying water or water-based mixtures. Spraying should also be carried out on unpaved road accesses regularly; all machinery and equipment should be maintained in good working order to ensure minimum emissions including carbon monoxide, oxides of Nitrogen and Sulphur, as well as suspended particulate matter; and drivers of construction vehicles and delivery trucks should be cautioned to drive slowly near the site to avoid creating dusty conditions. The drivers of construction vehicles and delivery trucks must be supervised so that they do not leave vehicles idling and limit their speeds so that dust levels are lowered.\n",
      "Similarity score: 0.4763\n",
      "\n",
      "Document 2:\n",
      "PID: ['P154784']\n",
      "Title: Kenya - Climate Smart Agriculture Project : Environmental Assessment (Vol. 7) : Environmental and Social Impact Assessment for Sertonje Borehole Sub-project, Mugurin Sub Location, Simotwe Location, Kisanana Ward, Mogotio Sub County, Baringo County\n",
      "Link: http://documents.worldbank.org/curated/en/436571617785340432/Environmental-and-Social-Impact-Assessment-for-Sertonje-Borehole-Sub-project-Mugurin-Sub-Location-Simotwe-Location-Kisanana-Ward-Mogotio-Sub-County-Baringo-County\n",
      "Relevant snippet: of the Climate Smart Agriculture Project for Kenya is to\n",
      "Abstract: The development objective of the Climate Smart Agriculture Project for Kenya is to increase agricultural productivity and build resilience to climate change risks in the targeted smallholder farming and pastoral communities in Kenya, and in the event of an eligible crisis or emergency, to provide immediate and effective response. Suggested measures included sensitization of the community on livestock disease control and prevention and provision of extension, intensify disease and pest surveillance; rehabilitate through reinstatement and tree planting all sites that are being used for construction activities such as camps, materials site (borrow pits and quarries) sites for storage materials and any paths, tracks that may be established during the construction phase and the water management committee should take charge of ensuring sustainability of this; dust from excavations and earth moving vehicles as well as materials delivery; emissions such as smoke, hydrocarbons and nitrogenous gases among others from machinery exhausts; the stockpiles of earth generated during construction works should be suppressed by spraying water or water-based mixtures. Spraying should also be carried out on unpaved road accesses regularly; all machinery and equipment should be maintained in good working order to ensure minimum emissions including carbon monoxide, oxides of Nitrogen and Sulphur, as well as suspended particulate matter; and drivers of construction vehicles and delivery trucks should be cautioned to drive slowly near the site to avoid creating dusty conditions. The drivers of construction vehicles and delivery trucks must be supervised so that they do not leave vehicles idling and limit their speeds so that dust levels are lowered.\n",
      "Similarity score: 0.4731\n",
      "\n",
      "Document 3:\n",
      "PID: ['P154784']\n",
      "Title: Kenya - Climate Smart Agriculture Project : Environmental Assessment (Vol. 8) : Environmental and Social Impact Assessment for Raichiri Waterpan Desilting Project on LR. No. Nyandarua and Leshau Block 3, Nyandarua County\n",
      "Link: http://documents.worldbank.org/curated/en/628571621838457163/Environmental-and-Social-Impact-Assessment-for-Raichiri-Waterpan-Desilting-Project-on-LR-No-Nyandarua-and-Leshau-Block-3-Nyandarua-County\n",
      "Relevant snippet: of the Climate Smart Agriculture Project for Kenya is to\n",
      "Abstract: The development objective of the Climate Smart Agriculture Project for Kenya is to increase agricultural productivity and build resilience to climate change risks in the targeted smallholder farming and pastoral communities in Kenya, and in the event of an eligible crisis or emergency, to provide immediate and effective response. Suggested measures included sensitization of the community on livestock disease control and prevention and provision of extension, intensify disease and pest surveillance; rehabilitate through reinstatement and tree planting all sites that are being used for construction activities such as camps, materials site (borrow pits and quarries) sites for storage materials and any paths, tracks that may be established during the construction phase and the water management committee should take charge of ensuring sustainability of this; dust from excavations and earth moving vehicles as well as materials delivery; emissions such as smoke, hydrocarbons and nitrogenous gases among others from machinery exhausts; the stockpiles of earth generated during construction works should be suppressed by spraying water or water-based mixtures. Spraying should also be carried out on unpaved road accesses regularly; all machinery and equipment should be maintained in good working order to ensure minimum emissions including carbon monoxide, oxides of Nitrogen and Sulphur, as well as suspended particulate matter; and drivers of construction vehicles and delivery trucks should be cautioned to drive slowly near the site to avoid creating dusty conditions. The drivers of construction vehicles and delivery trucks must be supervised so that they do not leave vehicles idling and limit their speeds so that dust levels are lowered.\n",
      "Similarity score: 0.4591\n",
      "\n"
     ]
    }
   ],
   "source": [
    "# Test the search function\n",
    "query = \"Earth Observation for Kenya\"\n",
    "relevant_docs = search_documents(query, documents, model)\n",
    "vectorizer = TfidfVectorizer()\n",
    "\n",
    "print(f\"Query: {query}\")\n",
    "for i, (doc, score) in enumerate(relevant_docs):\n",
    "    print(f\"Document {i+1}:\")\n",
    "    print(f\"PID: {doc['ids']}\")\n",
    "    print(f\"Title: {doc['title']}\")\n",
    "    print(f\"Link: {doc['url']}\")\n",
    "\n",
    "    most_relevant_snippet, _ = find_most_relevant_snippet(query, doc['full_text'], vectorizer)\n",
    "    print(f\"Relevant snippet: {most_relevant_snippet}\")\n",
    "\n",
    "    print(f\"Abstract: {doc['abstract']}\")\n",
    "    print(f\"Similarity score: {score:.4f}\")\n",
    "    print()"
   ]
  },
  {
   "cell_type": "code",
   "execution_count": null,
   "metadata": {},
   "outputs": [],
   "source": []
  }
 ],
 "metadata": {
  "kernelspec": {
   "display_name": "base",
   "language": "python",
   "name": "python3"
  },
  "language_info": {
   "codemirror_mode": {
    "name": "ipython",
    "version": 3
   },
   "file_extension": ".py",
   "mimetype": "text/x-python",
   "name": "python",
   "nbconvert_exporter": "python",
   "pygments_lexer": "ipython3",
   "version": "3.9.15"
  },
  "orig_nbformat": 4
 },
 "nbformat": 4,
 "nbformat_minor": 2
}
