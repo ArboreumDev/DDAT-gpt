{
 "cells": [
  {
   "cell_type": "code",
   "execution_count": null,
   "metadata": {},
   "outputs": [],
   "source": [
    "import gradio as gr\n",
    "import numpy as np\n",
    "\n",
    "#import the search function form the search.py file\n",
    "from search import search_documents, find_most_relevant_snippet, TfidfVectorizer, SentenceTransformer\n",
    "\n",
    "model = SentenceTransformer('paraphrase-distilroberta-base-v1')\n",
    "documents = np.load(\"documents_with_embeddings.npy\", allow_pickle=True)\n",
    "\n",
    "# Function to wrap the search functionality and return results as a list of dictionaries\n",
    "def search_interface(query):\n",
    "    relevant_docs = search_documents(query, documents, model)\n",
    "    vectorizer = TfidfVectorizer()\n",
    "\n",
    "    html_results = \"\"\n",
    "    for i, (doc, score) in enumerate(relevant_docs):\n",
    "        most_relevant_snippet, _ = find_most_relevant_snippet(query, doc['full_text'], vectorizer)\n",
    "        \n",
    "        html_results += f\"\"\"\n",
    "        <div style=\"border: 1px solid #ccc; border-radius: 5px; padding: 1em; margin-bottom: 1em;\">\n",
    "            <h4>Document {i + 1}</h4>\n",
    "            <p><b>PID:</b> {doc[\"ids\"]}</p>\n",
    "            <p><b>Title:</b> {doc[\"title\"]}</p>\n",
    "            <p><b>Link:</b> <a href=\"{doc[\"url\"]}\" target=\"_blank\">{doc[\"url\"]}</a></p>\n",
    "            <p><b>Relevant snippet:</b> {most_relevant_snippet}</p>\n",
    "            <p><b>Abstract:</b> {doc[\"abstract\"][:100]}</p>\n",
    "            <p><b>Similarity score:</b> {score:.4f}</p>\n",
    "        </div>\n",
    "        \"\"\"\n",
    "\n",
    "    return html_results\n",
    "\n",
    "# Define Gradio input and output components\n",
    "query_input = gr.inputs.Textbox(label=\"Enter your search query:\")\n",
    "output = gr.outputs.HTML(label=\"Search Results\")\n",
    "\n",
    "# Create the Gradio interface\n",
    "iface = gr.Interface(\n",
    "    fn=search_interface,\n",
    "    inputs=query_input,\n",
    "    outputs=output,\n",
    "    title=\"Document Search\",\n",
    "    description=\"Enter a search query to find relevant documents.\",\n",
    "    theme=\"huggingface\",\n",
    "    layout=\"vertical\",\n",
    ")\n",
    "\n",
    "# Launch the Gradio app\n",
    "iface.launch(share=True)\n"
   ]
  },
  {
   "cell_type": "code",
   "execution_count": null,
   "metadata": {},
   "outputs": [],
   "source": []
  }
 ],
 "metadata": {
  "kernelspec": {
   "display_name": "base",
   "language": "python",
   "name": "python3"
  },
  "language_info": {
   "codemirror_mode": {
    "name": "ipython",
    "version": 3
   },
   "file_extension": ".py",
   "mimetype": "text/x-python",
   "name": "python",
   "nbconvert_exporter": "python",
   "pygments_lexer": "ipython3",
   "version": "3.9.15"
  },
  "orig_nbformat": 4
 },
 "nbformat": 4,
 "nbformat_minor": 2
}
